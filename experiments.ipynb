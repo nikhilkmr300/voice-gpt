{
 "cells": [
  {
   "cell_type": "code",
   "execution_count": 1,
   "id": "a600446f-4603-4bb0-879f-bcd4920e3212",
   "metadata": {},
   "outputs": [],
   "source": [
    "import numpy as np\n",
    "from ipywebrtc import AudioRecorder, CameraStream\n",
    "from transformers import pipeline"
   ]
  },
  {
   "cell_type": "code",
   "execution_count": 2,
   "id": "9ab5c3f5-2bbd-45d0-974a-539bd472e681",
   "metadata": {},
   "outputs": [
    {
     "data": {
      "application/vnd.jupyter.widget-view+json": {
       "model_id": "1a42b4d98d30482ebc47eda7df879525",
       "version_major": 2,
       "version_minor": 0
      },
      "text/plain": [
       "AudioRecorder(audio=Audio(value=b'', format='webm'), stream=CameraStream(constraints={'audio': True, 'video': …"
      ]
     },
     "execution_count": 2,
     "metadata": {},
     "output_type": "execute_result"
    }
   ],
   "source": [
    "stream = CameraStream(constraints={\"audio\": True, \"video\": False})\n",
    "recorder = AudioRecorder(stream=stream)\n",
    "recorder"
   ]
  },
  {
   "cell_type": "code",
   "execution_count": 3,
   "id": "45f3a9a3-ff2c-4ba1-adce-fadae2a78f67",
   "metadata": {},
   "outputs": [],
   "source": [
    "audio = np.array(recorder.audio.value)"
   ]
  },
  {
   "cell_type": "code",
   "execution_count": 4,
   "id": "c3f6a3ae-3cf9-4e6c-b993-1244630392c1",
   "metadata": {},
   "outputs": [],
   "source": [
    "with open(\"query.webm\", \"wb\") as f:\n",
    "    f.write(recorder.audio.value)"
   ]
  },
  {
   "cell_type": "code",
   "execution_count": 5,
   "id": "43146213-0183-4513-b37f-04f4a7eba8ba",
   "metadata": {},
   "outputs": [
    {
     "name": "stderr",
     "output_type": "stream",
     "text": [
      "Special tokens have been added in the vocabulary, make sure the associated word embeddings are fine-tuned or trained.\n"
     ]
    }
   ],
   "source": [
    "transcriber = pipeline(model=\"openai/whisper-base\")"
   ]
  },
  {
   "cell_type": "code",
   "execution_count": 6,
   "id": "c5368701-d78b-4cfe-b1f0-ffab4bad8a55",
   "metadata": {},
   "outputs": [
    {
     "name": "stderr",
     "output_type": "stream",
     "text": [
      "Due to a bug fix in https://github.com/huggingface/transformers/pull/28687 transcription using a multilingual Whisper will default to language detection followed by transcription instead of translation to English.This might be a breaking change for your use case. If you want to instead always translate your audio to English, make sure to pass `language='en'`.\n"
     ]
    },
    {
     "data": {
      "text/plain": [
       "'Hello World.'"
      ]
     },
     "execution_count": 6,
     "metadata": {},
     "output_type": "execute_result"
    }
   ],
   "source": [
    "transcriber(\"query.webm\")[\"text\"].strip()"
   ]
  }
 ],
 "metadata": {
  "kernelspec": {
   "display_name": "Python 3 (ipykernel)",
   "language": "python",
   "name": "python3"
  },
  "language_info": {
   "codemirror_mode": {
    "name": "ipython",
    "version": 3
   },
   "file_extension": ".py",
   "mimetype": "text/x-python",
   "name": "python",
   "nbconvert_exporter": "python",
   "pygments_lexer": "ipython3",
   "version": "3.11.3"
  }
 },
 "nbformat": 4,
 "nbformat_minor": 5
}
